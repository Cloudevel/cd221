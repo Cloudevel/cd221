{
 "cells": [
  {
   "cell_type": "markdown",
   "metadata": {},
   "source": [
    "[![imagenes/pythonista.png](imagenes/pythonista.png)](https://pythonista.io)"
   ]
  },
  {
   "cell_type": "markdown",
   "metadata": {},
   "source": [
    "# py211: Visualización interactiva de datos en web\n",
    "\n",
    "## Temario:\n",
    "\n",
    "1. Firefox y Jupyter\n",
    "* Introducción a elementos de HTML\n",
    "* Introducción a XPath\n",
    "* Introducción al DOM\n",
    "* Creación de gráficos vectoriales con SVG\n",
    "* CSS y SVG\n",
    "* Fuentes de datos\n",
    "* Caso de uso: Gráfico de barras con SVG\n",
    "* Introducción a D3.js\n",
    "* Filtrado de datos\n",
    "* Selecciones\n",
    "* Medidas y escalas\n",
    "* Ejes y textos\n",
    "* Caso de uso: Gráfico de barras con D3.js\n",
    "* Ligado de datos con el DOM\n",
    "* Transiciones\n",
    "* Eventos e interacciones\n",
    "* Mapas geográficos\n",
    "* Despliegue de un servidor web con Flask\n",
    "* Caso de uso"
   ]
  },
  {
   "cell_type": "markdown",
   "metadata": {},
   "source": [
    "<p style=\"text-align: center\"><a rel=\"license\" href=\"http://creativecommons.org/licenses/by/4.0/\"><img alt=\"Licencia Creative Commons\" style=\"border-width:0\" src=\"https://i.creativecommons.org/l/by/4.0/80x15.png\" /></a><br />Esta obra está bajo una <a rel=\"license\" href=\"http://creativecommons.org/licenses/by/4.0/\">Licencia Creative Commons Atribución 4.0 Internacional</a>.</p>\n",
    "<p style=\"text-align: center\">&copy; José Luis Chiquete Valdivieso. 2018.</p>"
   ]
  }
 ],
 "metadata": {
  "kernelspec": {
   "display_name": "Python 3",
   "language": "python",
   "name": "python3"
  },
  "language_info": {
   "codemirror_mode": {
    "name": "ipython",
    "version": 3
   },
   "file_extension": ".py",
   "mimetype": "text/x-python",
   "name": "python",
   "nbconvert_exporter": "python",
   "pygments_lexer": "ipython3",
   "version": "3.6.5"
  }
 },
 "nbformat": 4,
 "nbformat_minor": 2
}
