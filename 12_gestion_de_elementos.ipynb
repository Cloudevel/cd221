{
 "cells": [
  {
   "cell_type": "markdown",
   "metadata": {},
   "source": [
    "[![imagenes/pythonista.png](imagenes/pythonista.png)](https://pythonista.io)"
   ]
  },
  {
   "cell_type": "markdown",
   "metadata": {},
   "source": [
    "## Selección de elementos."
   ]
  },
  {
   "cell_type": "markdown",
   "metadata": {},
   "source": [
    "### El método *select()*."
   ]
  },
  {
   "cell_type": "markdown",
   "metadata": {},
   "source": [
    "**Ejemplo:**"
   ]
  },
  {
   "cell_type": "code",
   "execution_count": null,
   "metadata": {},
   "outputs": [],
   "source": [
    "%%javascript\n",
    "\n",
    "require.config({\n",
    "        paths: {\n",
    "            d3: 'https://d3js.org/d3.v5.min'\n",
    "        }\n",
    "    })"
   ]
  },
  {
   "cell_type": "code",
   "execution_count": null,
   "metadata": {
    "scrolled": true
   },
   "outputs": [],
   "source": [
    "%%html\n",
    "<div id=\"contenedor-1\">\n",
    "    <h3>Ejemplo de los selectores de <span class=\"d3-1\"></span>.</h3>\n",
    "    <p>La biblioteca <span class=\"d3-1\"></span> constituye una herramienta \n",
    "    de gran utilidad para la creación y gestión de documentos orientados en datos.</p>\n",
    "    <h3>Funcionalidades de <span class=\"d3-1\"></span></h3>\n",
    "    <ul id=\"listado-1\">\n",
    "        <li>Selección de elementos.</li>\n",
    "        <li>Modificación y añadidura de elementos.</li>\n",
    "        <li>Obtención de datos.</li>\n",
    "        <li>Filtrado de datos.</li>\n",
    "        <li>Gestión de atributo.</li> \n",
    "    </ul>\n",
    "</div>"
   ]
  },
  {
   "cell_type": "code",
   "execution_count": null,
   "metadata": {},
   "outputs": [],
   "source": [
    "%%javascript\n",
    "\n",
    "require([\"d3\"], function(d3){\n",
    "    d3.select(\"#listado-1\").\n",
    "    style(\"color\", \"blue\");\n",
    "});"
   ]
  },
  {
   "cell_type": "code",
   "execution_count": null,
   "metadata": {},
   "outputs": [],
   "source": [
    "%%javascript\n",
    "\n",
    "require([\"d3\"], function(d3){\n",
    "    d3.select(\".d3-1\").\n",
    "    text(\"de tres\");\n",
    "});"
   ]
  },
  {
   "cell_type": "code",
   "execution_count": null,
   "metadata": {},
   "outputs": [],
   "source": [
    "%%javascript\n",
    "\n",
    "require([\"d3\"], function(d3){\n",
    "    d3.select(document.body).\n",
    "    style(\"background-color\", \"grey\");\n",
    "});"
   ]
  },
  {
   "cell_type": "markdown",
   "metadata": {},
   "source": [
    "### El método *selectAll()*."
   ]
  },
  {
   "cell_type": "markdown",
   "metadata": {},
   "source": [
    "**Ejemplo:**"
   ]
  },
  {
   "cell_type": "code",
   "execution_count": null,
   "metadata": {
    "scrolled": true
   },
   "outputs": [],
   "source": [
    "%%html\n",
    "<div id=\"contenedor-2\">\n",
    "    <h3>Ejemplo de los selectores de <span class=\"d3-2\"></span>.</h3>\n",
    "    <p>La biblioteca <span class=\"d3-2\"></span> constituye una herramienta \n",
    "    de gran utilidad para la creación y gestión de documentos orientados en datos.</p>\n",
    "    <h3>Funcionalidades de <span class=\"d3-2\"></span></h3>\n",
    "    <ul id=\"listado-2\">\n",
    "        <li>Selección de elementos.</li>\n",
    "        <li>Modificación y añadidura de elementos.</li>\n",
    "        <li>Obtención de datos.</li>\n",
    "        <li>Filtrado de datos.</li>\n",
    "        <li>Gestión de atributo.</li> \n",
    "    </ul>\n",
    "</div>"
   ]
  },
  {
   "cell_type": "code",
   "execution_count": null,
   "metadata": {},
   "outputs": [],
   "source": [
    "%%javascript\n",
    "\n",
    "require([\"d3\"], function(d3){\n",
    "    d3.selectAll(\".d3-2\").\n",
    "    text(\"d3.js\").\n",
    "    style(\"background-color\", \"red\");\n",
    "});"
   ]
  },
  {
   "cell_type": "markdown",
   "metadata": {},
   "source": [
    "## Añadidura de elementos."
   ]
  },
  {
   "cell_type": "markdown",
   "metadata": {},
   "source": [
    "### El método *append()*."
   ]
  },
  {
   "cell_type": "code",
   "execution_count": null,
   "metadata": {},
   "outputs": [],
   "source": [
    "%%html\n",
    "<div id=\"contenedor-3\">\n",
    "    <h3>Ejemplo de los selectores de <span class=\"d3-3\">D3.js</span>.</h3>\n",
    "    <p>La biblioteca <span class=\"d3-3\">D3.js</span> constituye una herramienta \n",
    "    de gran utilidad para la creación y gestión de documentos orientados en datos.</p>\n",
    "    <h3>Funcionalidades de <span class=\"d3-3\">D3.js</span></h3>\n",
    "    <ul id=\"listado-3\">\n",
    "        <li>Selección de elementos.</li>\n",
    "        <li>Modificación y añadidura de elementos.</li>\n",
    "        <li>Obtención de datos.</li>\n",
    "        <li>Filtrado de datos.</li>\n",
    "        <li>Gestión de atributo.</li> \n",
    "    </ul>\n",
    "</div>"
   ]
  },
  {
   "cell_type": "code",
   "execution_count": null,
   "metadata": {},
   "outputs": [],
   "source": [
    "%%javascript\n",
    "\n",
    "require([\"d3\"], function(d3){\n",
    "    d3.select(\"#contenedor-3\").\n",
    "    select(\"ul\").\n",
    "    append(\"li\").\n",
    "    text(\"Opción nueva.\");\n",
    "});"
   ]
  },
  {
   "cell_type": "code",
   "execution_count": null,
   "metadata": {},
   "outputs": [],
   "source": [
    "%%html\n",
    "<div id=\"contenedor-4\">\n",
    "</div>"
   ]
  },
  {
   "cell_type": "code",
   "execution_count": null,
   "metadata": {},
   "outputs": [],
   "source": [
    "%%javascript\n",
    "\n",
    "require([\"d3\"], function(d3){\n",
    "    d3.select(\"#contenedor-4\").\n",
    "    append(\"div\").\n",
    "    style(\"width\", \"100px\").\n",
    "    style(\"height\", \"100px\").\n",
    "    style(\"background-color\", \"red\");\n",
    "});"
   ]
  },
  {
   "cell_type": "markdown",
   "metadata": {},
   "source": [
    "### El método *insert()*."
   ]
  },
  {
   "cell_type": "code",
   "execution_count": null,
   "metadata": {},
   "outputs": [],
   "source": [
    "%%html\n",
    "<div id=\"contenedor-5\">\n",
    "   <ul>\n",
    "        <li>uno</li>\n",
    "        <li>dos</li>\n",
    "        <li id=\"tres\">tres</li>\n",
    "        <li>cuatro</li>\n",
    "</div>"
   ]
  },
  {
   "cell_type": "code",
   "execution_count": null,
   "metadata": {},
   "outputs": [],
   "source": [
    "%%javascript\n",
    "\n",
    "require([\"d3\"], function(d3){\n",
    "    d3.select(\"#contenedor-5\").\n",
    "    select(\"ul\").\n",
    "    insert(\"li\", \"#tres\").\n",
    "    text(\"DOS Y MEDIO.\");\n",
    "});"
   ]
  },
  {
   "cell_type": "markdown",
   "metadata": {},
   "source": [
    "### El método clone()."
   ]
  },
  {
   "cell_type": "code",
   "execution_count": null,
   "metadata": {},
   "outputs": [],
   "source": [
    "%%html\n",
    "<div id=\"contenedor-6\">\n",
    "<p id=\"parrafo-6\">Hola</p>\n",
    "</div>"
   ]
  },
  {
   "cell_type": "code",
   "execution_count": null,
   "metadata": {},
   "outputs": [],
   "source": [
    "%%javascript\n",
    "\n",
    "require([\"d3\"], function(d3){\n",
    "    d3.select(\"#parrafo-6\").\n",
    "    clone(true).\n",
    "    style(\"color\", \"blue\");\n",
    "});"
   ]
  },
  {
   "cell_type": "code",
   "execution_count": null,
   "metadata": {},
   "outputs": [],
   "source": [
    "%%html\n",
    "\n",
    "<div id=\"contenedor-7\"></div>"
   ]
  },
  {
   "cell_type": "code",
   "execution_count": null,
   "metadata": {},
   "outputs": [],
   "source": [
    "%%javascript\n",
    "\n",
    "require([\"d3\"], function(d3){\n",
    "    d3.select(\"#contenedor-7\").\n",
    "    style(\"background-color\", \"blue\").\n",
    "    style(\"width\", \"100px\").\n",
    "    style(\"height\", \"100px\").\n",
    "    style(\"color\", \"white\").\n",
    "    text(\"Hola\").\n",
    "    clone().\n",
    "    style(\"background-color\", \"gold\");\n",
    "});"
   ]
  },
  {
   "cell_type": "markdown",
   "metadata": {},
   "source": [
    "## Inserción de codigo HTML con el método *html()*."
   ]
  },
  {
   "cell_type": "code",
   "execution_count": null,
   "metadata": {},
   "outputs": [],
   "source": [
    "%%html\n",
    "<div id=\"contenedor-8\">\n",
    "</div>"
   ]
  },
  {
   "cell_type": "code",
   "execution_count": null,
   "metadata": {
    "scrolled": true
   },
   "outputs": [],
   "source": [
    "%%javascript\n",
    "\n",
    "require([\"d3\"], function(d3){\n",
    "    d3.select(\"#contenedor-8\").\n",
    "    style(\"color\", \"blue\").\n",
    "    html(\"<h3>Este es código insertado.</h3>\");\n",
    "});"
   ]
  },
  {
   "cell_type": "code",
   "execution_count": null,
   "metadata": {},
   "outputs": [],
   "source": [
    "%%javascript\n",
    "\n",
    "require([\"d3\"], function(d3){\n",
    "    d3.select(\"#contenedor-8\").\n",
    "    text(\"Este es texto insertado.\");\n",
    "});"
   ]
  },
  {
   "cell_type": "markdown",
   "metadata": {},
   "source": [
    "## Eliminación de elementos."
   ]
  },
  {
   "cell_type": "code",
   "execution_count": null,
   "metadata": {},
   "outputs": [],
   "source": [
    "%%html\n",
    "<div id=\"contenedor-9\">\n",
    "<p id=\"parrafo-9\">Hola</p>\n",
    "</div>"
   ]
  },
  {
   "cell_type": "code",
   "execution_count": null,
   "metadata": {},
   "outputs": [],
   "source": [
    "%%javascript\n",
    "\n",
    "require([\"d3\"], function(d3){\n",
    "    d3.select(\"#parrafo-9\").\n",
    "    remove()\n",
    "});"
   ]
  },
  {
   "cell_type": "markdown",
   "metadata": {},
   "source": [
    "<p style=\"text-align: center\"><a rel=\"license\" href=\"http://creativecommons.org/licenses/by/4.0/\"><img alt=\"Licencia Creative Commons\" style=\"border-width:0\" src=\"https://i.creativecommons.org/l/by/4.0/80x15.png\" /></a><br />Esta obra está bajo una <a rel=\"license\" href=\"http://creativecommons.org/licenses/by/4.0/\">Licencia Creative Commons Atribución 4.0 Internacional</a>.</p>\n",
    "<p style=\"text-align: center\">&copy; José Luis Chiquete Valdivieso. 2018.</p>"
   ]
  }
 ],
 "metadata": {
  "kernelspec": {
   "display_name": "Python 3",
   "language": "python",
   "name": "python3"
  },
  "language_info": {
   "codemirror_mode": {
    "name": "ipython",
    "version": 3
   },
   "file_extension": ".py",
   "mimetype": "text/x-python",
   "name": "python",
   "nbconvert_exporter": "python",
   "pygments_lexer": "ipython3",
   "version": "3.6.5"
  }
 },
 "nbformat": 4,
 "nbformat_minor": 2
}
