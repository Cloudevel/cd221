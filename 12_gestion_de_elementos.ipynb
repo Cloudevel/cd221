{
 "cells": [
  {
   "cell_type": "markdown",
   "metadata": {},
   "source": [
    "[![imagenes/pythonista.png](imagenes/pythonista.png)](https://pythonista.io)"
   ]
  },
  {
   "cell_type": "markdown",
   "metadata": {},
   "source": [
    "## Selección de elementos."
   ]
  },
  {
   "cell_type": "code",
   "execution_count": 3,
   "metadata": {
    "scrolled": true
   },
   "outputs": [
    {
     "data": {
      "text/html": [
       "<div id=\"contenedor_1\">\n",
       "    <h3>Ejemplo de los selectores de <span class=\"d3\"></span>.</h3>\n",
       "    <p>La biblioteca <span class=\"d3\"></span> constituye una herramienta \n",
       "    de gran utilidad para la creación y gestión de documentos orientados en datos.</p>\n",
       "    <h3>Funcionalidades de <span class=\"d3\"></span></h3>\n",
       "    <ul id=\"listado\">\n",
       "        <li>Selección de elementos.</li>\n",
       "        <li>Modificación y añadidura de elementos.</li>\n",
       "        <li>Obtención de datos.</li>\n",
       "        <li>Filtrado de datos.</li>\n",
       "        <li>Gestión de atributo.</li> \n",
       "    </ul>\n",
       "</div>"
      ],
      "text/plain": [
       "<IPython.core.display.HTML object>"
      ]
     },
     "metadata": {},
     "output_type": "display_data"
    }
   ],
   "source": [
    "%%html\n",
    "<div id=\"contenedor_1\">\n",
    "    <h3>Ejemplo de los selectores de <span class=\"d3\"></span>.</h3>\n",
    "    <p>La biblioteca <span class=\"d3\"></span> constituye una herramienta \n",
    "    de gran utilidad para la creación y gestión de documentos orientados en datos.</p>\n",
    "    <h3>Funcionalidades de <span class=\"d3\"></span></h3>\n",
    "    <ul id=\"listado\">\n",
    "        <li>Selección de elementos.</li>\n",
    "        <li>Modificación y añadidura de elementos.</li>\n",
    "        <li>Obtención de datos.</li>\n",
    "        <li>Filtrado de datos.</li>\n",
    "        <li>Gestión de atributo.</li> \n",
    "    </ul>\n",
    "</div>"
   ]
  },
  {
   "cell_type": "code",
   "execution_count": null,
   "metadata": {},
   "outputs": [],
   "source": [
    "%%javascript\n",
    "\n",
    "require.config({\n",
    "        paths: {\n",
    "            d3: 'https://d3js.org/d3.v5.min'\n",
    "        }\n",
    "    })"
   ]
  },
  {
   "cell_type": "code",
   "execution_count": null,
   "metadata": {},
   "outputs": [],
   "source": [
    "%%javascript\n",
    "\n",
    "require([\"d3\"], function(d3){\n",
    "    d3.\n",
    "})"
   ]
  },
  {
   "cell_type": "code",
   "execution_count": null,
   "metadata": {},
   "outputs": [],
   "source": [
    "%%javascript\n",
    "\n",
    "require([\"d3\"], function(d3){\n",
    "    d3.\n",
    "})"
   ]
  },
  {
   "cell_type": "markdown",
   "metadata": {},
   "source": [
    "<p style=\"text-align: center\"><a rel=\"license\" href=\"http://creativecommons.org/licenses/by/4.0/\"><img alt=\"Licencia Creative Commons\" style=\"border-width:0\" src=\"https://i.creativecommons.org/l/by/4.0/80x15.png\" /></a><br />Esta obra está bajo una <a rel=\"license\" href=\"http://creativecommons.org/licenses/by/4.0/\">Licencia Creative Commons Atribución 4.0 Internacional</a>.</p>\n",
    "<p style=\"text-align: center\">&copy; José Luis Chiquete Valdivieso. 2018.</p>"
   ]
  }
 ],
 "metadata": {
  "kernelspec": {
   "display_name": "Python 3",
   "language": "python",
   "name": "python3"
  },
  "language_info": {
   "codemirror_mode": {
    "name": "ipython",
    "version": 3
   },
   "file_extension": ".py",
   "mimetype": "text/x-python",
   "name": "python",
   "nbconvert_exporter": "python",
   "pygments_lexer": "ipython3",
   "version": "3.7.0"
  }
 },
 "nbformat": 4,
 "nbformat_minor": 2
}
