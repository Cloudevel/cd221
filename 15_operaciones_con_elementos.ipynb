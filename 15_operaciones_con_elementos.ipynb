{
 "cells": [
  {
   "cell_type": "markdown",
   "metadata": {},
   "source": [
    "[![imagenes/pythonista.png](imagenes/pythonista.png)](https://pythonista.io)"
   ]
  },
  {
   "cell_type": "markdown",
   "metadata": {},
   "source": [
    "## El método *filter()*.\n",
    "\n",
    "El método *filter()* permite filtrar los datos a partir de una función que regrese un valor booleano.\n",
    "\n"
   ]
  },
  {
   "cell_type": "code",
   "execution_count": 1,
   "metadata": {},
   "outputs": [
    {
     "data": {
      "application/javascript": [
       "\n",
       "require.config({\n",
       "        paths: {\n",
       "            d3: 'https://d3js.org/d3.v5.min'\n",
       "        }\n",
       "    });"
      ],
      "text/plain": [
       "<IPython.core.display.Javascript object>"
      ]
     },
     "metadata": {},
     "output_type": "display_data"
    }
   ],
   "source": [
    "%%javascript\n",
    "\n",
    "require.config({\n",
    "        paths: {\n",
    "            d3: 'https://d3js.org/d3.v5.min'\n",
    "        }\n",
    "    });"
   ]
  },
  {
   "cell_type": "code",
   "execution_count": 2,
   "metadata": {},
   "outputs": [
    {
     "data": {
      "text/html": [
       "<div id=\"contenedor-1\">\n",
       "</div>"
      ],
      "text/plain": [
       "<IPython.core.display.HTML object>"
      ]
     },
     "metadata": {},
     "output_type": "display_data"
    }
   ],
   "source": [
    "%%html\n",
    "<div id=\"contenedor-1\">\n",
    "</div>"
   ]
  },
  {
   "cell_type": "code",
   "execution_count": 3,
   "metadata": {},
   "outputs": [
    {
     "data": {
      "application/javascript": [
       "\n",
       "require([\"d3\"], function(d3) {\n",
       "    d3.csv(\"data/calificaciones.csv\",).then(function(datos){\n",
       "        d3.select(\"#contenedor-1\").\n",
       "            selectAll(\"p\").\n",
       "            data(datos).\n",
       "            enter().append(\"p\").\n",
       "            filter(d => !isNaN(d.py101)).\n",
       "            text(d => d.Nombre + \". py101: \" + d.py101 + \". py111: \" + d.py111 \n",
       "                 + \". py121: \" + d.py121);\n",
       "    })\n",
       "});"
      ],
      "text/plain": [
       "<IPython.core.display.Javascript object>"
      ]
     },
     "metadata": {},
     "output_type": "display_data"
    }
   ],
   "source": [
    "%%javascript\n",
    "\n",
    "require([\"d3\"], function(d3) {\n",
    "    d3.csv(\"data/calificaciones.csv\",).then(function(datos){\n",
    "        d3.select(\"#contenedor-1\").\n",
    "            selectAll(\"p\").\n",
    "            data(datos).\n",
    "            enter().append(\"p\").\n",
    "            filter(d => !isNaN(d.py101)).\n",
    "            text(d => d.Nombre + \". py101: \" + d.py101 + \". py111: \" + d.py111 \n",
    "                 + \". py121: \" + d.py121);\n",
    "    })\n",
    "});"
   ]
  },
  {
   "cell_type": "markdown",
   "metadata": {},
   "source": [
    "## La función *exit()*"
   ]
  },
  {
   "cell_type": "markdown",
   "metadata": {},
   "source": [
    "## El método *merge()*."
   ]
  },
  {
   "cell_type": "markdown",
   "metadata": {},
   "source": [
    "## El método *sort()*."
   ]
  },
  {
   "cell_type": "code",
   "execution_count": 4,
   "metadata": {},
   "outputs": [
    {
     "data": {
      "text/html": [
       "<div id=\"contenedor-2\">\n",
       "</div>"
      ],
      "text/plain": [
       "<IPython.core.display.HTML object>"
      ]
     },
     "metadata": {},
     "output_type": "display_data"
    }
   ],
   "source": [
    "%%html\n",
    "<div id=\"contenedor-2\">\n",
    "</div>"
   ]
  },
  {
   "cell_type": "code",
   "execution_count": 5,
   "metadata": {},
   "outputs": [
    {
     "data": {
      "application/javascript": [
       "\n",
       "require([\"d3\"], function(d3) {\n",
       "    d3.csv(\"data/calificaciones.csv\",).then(function(datos){\n",
       "        d3.select(\"#contenedor-2\").\n",
       "            selectAll(\"p\").\n",
       "            data(datos).\n",
       "            enter().append(\"p\").\n",
       "            sort(d => d.Nombre).\n",
       "            text(d => d.Nombre + \". py101: \" + d.py101 + \". py111: \" + d.py111 \n",
       "                 + \". py121: \" + d.py121);\n",
       "    })\n",
       "});"
      ],
      "text/plain": [
       "<IPython.core.display.Javascript object>"
      ]
     },
     "metadata": {},
     "output_type": "display_data"
    }
   ],
   "source": [
    "%%javascript\n",
    "\n",
    "require([\"d3\"], function(d3) {\n",
    "    d3.csv(\"data/calificaciones.csv\",).then(function(datos){\n",
    "        d3.select(\"#contenedor-2\").\n",
    "            selectAll(\"p\").\n",
    "            data(datos).\n",
    "            enter().append(\"p\").\n",
    "            sort(d => d.Nombre).\n",
    "            text(d => d.Nombre + \". py101: \" + d.py101 + \". py111: \" + d.py111 \n",
    "                 + \". py121: \" + d.py121);\n",
    "    })\n",
    "});"
   ]
  },
  {
   "cell_type": "markdown",
   "metadata": {},
   "source": [
    "*raise()*"
   ]
  },
  {
   "cell_type": "markdown",
   "metadata": {},
   "source": [
    "*order()*"
   ]
  },
  {
   "cell_type": "markdown",
   "metadata": {},
   "source": [
    "*lower()*"
   ]
  },
  {
   "cell_type": "markdown",
   "metadata": {},
   "source": [
    "<p style=\"text-align: center\"><a rel=\"license\" href=\"http://creativecommons.org/licenses/by/4.0/\"><img alt=\"Licencia Creative Commons\" style=\"border-width:0\" src=\"https://i.creativecommons.org/l/by/4.0/80x15.png\" /></a><br />Esta obra está bajo una <a rel=\"license\" href=\"http://creativecommons.org/licenses/by/4.0/\">Licencia Creative Commons Atribución 4.0 Internacional</a>.</p>\n",
    "<p style=\"text-align: center\">&copy; José Luis Chiquete Valdivieso. 2018.</p>"
   ]
  }
 ],
 "metadata": {
  "kernelspec": {
   "display_name": "Python 3",
   "language": "python",
   "name": "python3"
  },
  "language_info": {
   "codemirror_mode": {
    "name": "ipython",
    "version": 3
   },
   "file_extension": ".py",
   "mimetype": "text/x-python",
   "name": "python",
   "nbconvert_exporter": "python",
   "pygments_lexer": "ipython3",
   "version": "3.7.0"
  }
 },
 "nbformat": 4,
 "nbformat_minor": 2
}
