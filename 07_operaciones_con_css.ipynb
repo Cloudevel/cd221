{
 "cells": [
  {
   "cell_type": "markdown",
   "metadata": {},
   "source": [
    "[![imagenes/pythonista.png](imagenes/pythonista.png)](https://pythonista.io)"
   ]
  },
  {
   "cell_type": "markdown",
   "metadata": {},
   "source": [
    "## Transformaciones 2D con CSS.\n",
    "\n",
    "Las hojas de estilo cuentan con el atributo *transform* el cual permite transformar elementos mediante los métodos.\n",
    "\n",
    "* *translate()*\n",
    "* *scale()*\n",
    "* *rotate()*\n",
    "* *skew()*\n",
    "    * *skewX()*\n",
    "    * *skewY()*\n",
    "* *matrix()*\n",
    "\n",
    "La sintaxis es la siguiente:\n",
    "```\n",
    "<selector>{\n",
    "transform: <método>(<atributos>);\n",
    "}\n",
    "```"
   ]
  },
  {
   "cell_type": "markdown",
   "metadata": {},
   "source": [
    "### La clase contenedor."
   ]
  },
  {
   "cell_type": "code",
   "execution_count": null,
   "metadata": {},
   "outputs": [],
   "source": [
    "%%html\n",
    "\n",
    "<style>\n",
    "    .contenedor {\n",
    "       width: 200px;\n",
    "       height:200px;\n",
    "       background-color:#e9f0f2;\n",
    "    }\n",
    "</style>"
   ]
  },
  {
   "cell_type": "markdown",
   "metadata": {},
   "source": [
    "### Muestra original."
   ]
  },
  {
   "cell_type": "code",
   "execution_count": null,
   "metadata": {},
   "outputs": [],
   "source": [
    "%%html\n",
    "<style>\n",
    "    #ejemplo {\n",
    "        background-color:gold;\n",
    "        width: 100px;\n",
    "        height: 100px;\n",
    "        color:red;\n",
    "        }\n",
    "</style>\n",
    "<div class=\"contenedor\">\n",
    "    <div id=\"ejemplo\">texto</div>\n",
    "</div>"
   ]
  },
  {
   "cell_type": "markdown",
   "metadata": {},
   "source": [
    "## El método *translate()*."
   ]
  },
  {
   "cell_type": "code",
   "execution_count": null,
   "metadata": {
    "scrolled": true
   },
   "outputs": [],
   "source": [
    "%%html\n",
    "<style>\n",
    "    #ejemplo_1 {\n",
    "        background-color:gold;\n",
    "        width: 100px;\n",
    "        height: 100px;\n",
    "        color:red;\n",
    "        transform: translate(50px, 100px);    \n",
    "        }\n",
    "</style>\n",
    "<div class=\"contenedor\">\n",
    "    <div id=\"ejemplo_1\">texto</div>\n",
    "</div>"
   ]
  },
  {
   "cell_type": "markdown",
   "metadata": {},
   "source": [
    "## El método *scale()*."
   ]
  },
  {
   "cell_type": "code",
   "execution_count": null,
   "metadata": {
    "scrolled": false
   },
   "outputs": [],
   "source": [
    "%%html\n",
    "<style>\n",
    "    #ejemplo_2 {\n",
    "        background-color:gold;\n",
    "        color:red;\n",
    "        width: 100px;\n",
    "        height: 100px;\n",
    "        transform: scale(0.5, 1.2); \n",
    "        }\n",
    "</style>\n",
    "<div class=\"contenedor\">\n",
    "    <div id=\"ejemplo_2\">texto</div>\n",
    "</div>"
   ]
  },
  {
   "cell_type": "markdown",
   "metadata": {},
   "source": [
    "## El método *rotate()*."
   ]
  },
  {
   "cell_type": "code",
   "execution_count": null,
   "metadata": {
    "scrolled": false
   },
   "outputs": [],
   "source": [
    "%%html\n",
    "<style>\n",
    "    #ejemplo_3 {\n",
    "        background-color:gold;\n",
    "        color:red;\n",
    "        width: 100px;\n",
    "        height: 100px;\n",
    "        transform: rotate(15deg); \n",
    "        }\n",
    "</style>\n",
    "<div class=\"contenedor\">\n",
    "    <div id=\"ejemplo_3\">texto</div>\n",
    "</div>"
   ]
  },
  {
   "cell_type": "code",
   "execution_count": null,
   "metadata": {},
   "outputs": [],
   "source": []
  },
  {
   "cell_type": "code",
   "execution_count": null,
   "metadata": {},
   "outputs": [],
   "source": []
  },
  {
   "cell_type": "code",
   "execution_count": null,
   "metadata": {},
   "outputs": [],
   "source": []
  },
  {
   "cell_type": "code",
   "execution_count": null,
   "metadata": {},
   "outputs": [],
   "source": []
  },
  {
   "cell_type": "code",
   "execution_count": null,
   "metadata": {},
   "outputs": [],
   "source": []
  },
  {
   "cell_type": "code",
   "execution_count": null,
   "metadata": {},
   "outputs": [],
   "source": []
  },
  {
   "cell_type": "code",
   "execution_count": null,
   "metadata": {},
   "outputs": [],
   "source": []
  },
  {
   "cell_type": "code",
   "execution_count": null,
   "metadata": {},
   "outputs": [],
   "source": []
  },
  {
   "cell_type": "code",
   "execution_count": null,
   "metadata": {},
   "outputs": [],
   "source": []
  },
  {
   "cell_type": "code",
   "execution_count": null,
   "metadata": {},
   "outputs": [],
   "source": []
  },
  {
   "cell_type": "markdown",
   "metadata": {},
   "source": [
    "<p style=\"text-align: center\"><a rel=\"license\" href=\"http://creativecommons.org/licenses/by/4.0/\"><img alt=\"Licencia Creative Commons\" style=\"border-width:0\" src=\"https://i.creativecommons.org/l/by/4.0/80x15.png\" /></a><br />Esta obra está bajo una <a rel=\"license\" href=\"http://creativecommons.org/licenses/by/4.0/\">Licencia Creative Commons Atribución 4.0 Internacional</a>.</p>\n",
    "<p style=\"text-align: center\">&copy; José Luis Chiquete Valdivieso. 2018.</p>"
   ]
  }
 ],
 "metadata": {
  "kernelspec": {
   "display_name": "Python 3",
   "language": "python",
   "name": "python3"
  },
  "language_info": {
   "codemirror_mode": {
    "name": "ipython",
    "version": 3
   },
   "file_extension": ".py",
   "mimetype": "text/x-python",
   "name": "python",
   "nbconvert_exporter": "python",
   "pygments_lexer": "ipython3",
   "version": "3.6.5"
  }
 },
 "nbformat": 4,
 "nbformat_minor": 2
}
