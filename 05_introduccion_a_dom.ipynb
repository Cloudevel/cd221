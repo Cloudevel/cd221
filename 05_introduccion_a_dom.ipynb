{
 "cells": [
  {
   "cell_type": "markdown",
   "metadata": {},
   "source": [
    "[![imagenes/pythonista.png](imagenes/pythonista.png)](https://pythonista.io)"
   ]
  },
  {
   "cell_type": "markdown",
   "metadata": {},
   "source": [
    "## El Modelo del objeto documento (DOM).\n",
    "\n",
    "Al abrir un documento HTML en cualquier navegador, dicho documento es considerado com un objeto, el  cual a su vez contiene otros objetos o elementos. \n",
    "\n",
    "El modelo del objeto documento (DOM) es una manera estandarizada en la que se puede acceder a los elementos de un documento HTML."
   ]
  },
  {
   "cell_type": "markdown",
   "metadata": {},
   "source": [
    "### Árbol de nodos.\n",
    "\n",
    "El DOM permite identificar a los elementos de un documento HTML como una serie de nodos que a su vez podrían contener a otros nodos, los cuales se van bifurcando a partir de la raiz del documento al estilo de las ramas de un árbol a partir de su tronco.\n",
    "\n",
    "### El objeto *document*.\n",
    "\n",
    "El objeto *document* contiene al documento HTML que se despiega en la ventana de un navegador y es mediante el uso de sus métodos como se puede acceder a los elementos que contiene.\n",
    "\n",
    "Los elementos HTML, contienen dos nodos:\n",
    "\n",
    "* Elemento: Correspondiente a la etiqueta del elemento.\n",
    "* Texto: Correspondiente al tecto dentro del elemento.\n",
    "\n",
    "\n",
    "### Tipos de nodo.\n",
    "\n",
    "* Document, el cual correpsonde al nodo raíz.\n",
    "* Element, el cual representa a cada elemento por medio de su etiqueta.\n",
    "* Attr, correspondiente a un atributo del elemento.\n",
    "* Text, contiene el texto que está dentro del elemento.\n",
    "* Comment, comentarios del documento.\n",
    " \n",
    "### Manipulación de nodos y elementos.\n",
    "\n",
    "Mediante el DOM, es posible acceder a cad elemento del documento HTML y realiar las siguientes operaciones:\n",
    "\n",
    "* Acceder a valor de un elemento.\n",
    "* Establecer valores a un elemento.\n",
    "* Mover un elemento de la página.\n",
    "* Crear o eliminar elementos.\n",
    "\n",
    "**NOTA:** El acceso a los elementos de un documento HTML solamente pueden ser realizados cuando la página se haya cargado por completo.\n",
    "\n",
    "### Acceso a los nodos.\n",
    "\n",
    "Como se mencionó previamente, el DOM presenta una estructura similar a la del tronco de un árbol a partir del cual se bifurcan ramas. Se dice que el elemento HTML que contiene a otros elementos es el padre de estos.\n",
    "\n",
    "```\n",
    "padre(parent)\n",
    "| hijos(children)\n",
    "├──elemento\n",
    "├──hermano(sibling)\n",
    "```"
   ]
  },
  {
   "cell_type": "markdown",
   "metadata": {},
   "source": [
    "## El método *document.getRootNode()* .\n",
    "\n",
    "Este método permite acceder al nodo raíz del documento. El elemento resultante contiene a los elementos *head* y *body* como propiedades.\n",
    "\n"
   ]
  },
  {
   "cell_type": "markdown",
   "metadata": {},
   "source": [
    "**Ejemplos**:\n",
    "\n",
    "* Abrir una ventana en blanco dentro de un navegador (se recomienda Firefox).\n",
    "* Seleccionar la consola del navegador a partir de la inspección de los elementos.\n",
    "* Al ejecutar el siguente código se asignará el nodo raíz será asignado a la variable *documento*.\n",
    "\n",
    "``` javascript\n",
    "const documento = document.getRootNode();\n",
    "```\n",
    "\n",
    "* Para acceder al elemento *body* del documento HTML se ejecuta lo siguiente:\n",
    "\n",
    "``` javascript\n",
    "documento.body;\n",
    "```\n",
    "\n",
    "Se desplegará el contenido y los atributos del elemento *body*."
   ]
  },
  {
   "cell_type": "markdown",
   "metadata": {},
   "source": [
    "**Ejemplo:**"
   ]
  },
  {
   "cell_type": "markdown",
   "metadata": {},
   "source": [
    "## Creación de un elemento.\n",
    "\n",
    "Es posible crear un elemento mendiante el método *document.createElement()*, indicando el tipo de elemento mediante el nombre de su etiqueta."
   ]
  },
  {
   "cell_type": "markdown",
   "metadata": {},
   "source": [
    "**Ejemplo:**\n",
    "\n",
    "* Se creará un elemento de tipo *p* y se asignará a la variable *parrafo*.\n",
    "\n",
    "``` javascript\n",
    "parrafo = document.createElement(\"p\");\n",
    "```"
   ]
  },
  {
   "cell_type": "markdown",
   "metadata": {},
   "source": [
    "## Inserción de de un nodo hijo."
   ]
  },
  {
   "cell_type": "markdown",
   "metadata": {},
   "source": [
    "El método *append()*.\n",
    "\n",
    "```javascript```\n",
    "<elemento_padre>.append(<nodo_hijo>);\n",
    "```"
   ]
  },
  {
   "cell_type": "markdown",
   "metadata": {},
   "source": [
    "## Inserción de un elemento hijo.\n",
    "\n",
    "El método *appendChild()* permite añadir al final de un elemento, otro elemento que es ingresado como argumento.\n",
    "\n",
    "```javascript```\n",
    "<elemento_padre>.appendChild(<elemento_hijo>);\n",
    "```"
   ]
  },
  {
   "cell_type": "markdown",
   "metadata": {},
   "source": [
    "### Propiedades básicas de un elemento.\n",
    "\n",
    "Los elementos contienen múltiples propiedades emanadas de *document*, pero las más características son: \n",
    "\n",
    "* *textContent*, la cual corresonde al contenido de texto del elemento.\n",
    "* *children*, la cual corresponde a una colección que enumera a los elementos que contiene el elemento.\n",
    "* *childNodes*, la cual corresponde a una lista de los nodos que contiene el elemento.\n",
    "* *innerHTML* la cual corresponde a un objeto de tipo String que contiene el código HTML del elemento.\n",
    "* *innerText* la cual corresponde a un objeto de tipo String que contiene el texto del elemento y sus elementos contenidos.\n",
    "* *id* la cual corresponde a un objeto de tipo String que contiene el atributo *id* del elemento.\n",
    "* *className* la cual corresponde al nombre de la calse al a que pertenece el elemento.\n",
    "* *parentElement* la cual corresponde al elemento padre del elemento actual.\n",
    "* *parentNode* la cual corresponde al nodo padre del elemento actual.\n",
    "* *style* el cual contiene las reglas de estilo del elemento. Cada regla corresponde a un atributo del objeto."
   ]
  },
  {
   "cell_type": "markdown",
   "metadata": {},
   "source": [
    "## Gestión de atributos de un elemento.\n",
    "\n",
    "### Listado de los atributos de un elemento.\n",
    "\n",
    "* La propiedad *attributes* regresa un arreglo que contiene los atributos de un elemento.\n",
    "``` javascript\n",
    "<elemento>.attributes;\n",
    "```\n",
    "\n",
    "###  Añadidura o modificación de un atributo.\n",
    "\n",
    "* El método *setAttribute* crea un atributo en el elemento. En caso de que el atributo exista, éste será modificado con el valor ingresado.\n",
    "\n",
    "``` javascript\n",
    "<elemento>.setAttribute(\"<atributo>\", \"<valor>\");\n",
    "```\n",
    "\n",
    "###  Obtención del valor de un atributo.\n",
    "\n",
    "* El método *getAttribute()* regresa el valor de un atributo específico del elemento.\n",
    "\n",
    "``` javascript\n",
    "<elemento>.getAttribute(\"<atributo>\");\n",
    "```\n",
    "\n",
    "###  Eliminación de un atributo.\n",
    "\n",
    "* El método *removeAttribute()* elimina un atributo específico del elemento.\n",
    "\n",
    "``` javascript\n",
    "<elemento>.removeAttribute(\"<atributo>\");\n",
    "```\n",
    "\n"
   ]
  },
  {
   "cell_type": "markdown",
   "metadata": {},
   "source": [
    "## Métodos de acceso a elementos emanado de *document*.\n",
    " \n",
    "* *getElementsByTagName()*\n",
    "* *getElementsByName()*\n",
    "* *getElementById()*\n",
    "* *getElementsByClassName()*\n",
    "\n",
    "## Eliminación de un elemento mediante el método *removeChild()*. \n",
    "El método *removeChild()* requiere como argumento al nodo que se va a eliminar. \n",
    "\n",
    "Esta función debe ser invocada desde el elemento padre de ese nodo que se quiere eliminar. La forma más segura y rápida de acceder al nodo padre de un elemento es mediante la propiedad nodoHijo.parentNode .\n",
    "\n",
    "**Nota:** Cuando se elimina un nodo, también se eliminan automáticamente todos los nodos hijos que tenga, por lo que no es necesario borrar manualmente cada nodo hijo."
   ]
  },
  {
   "cell_type": "markdown",
   "metadata": {},
   "source": [
    "## Búsqueda de elementos en el DOM."
   ]
  },
  {
   "cell_type": "markdown",
   "metadata": {},
   "source": [
    "### Búsqueda con XPath.\n",
    "\n",
    "Es posible realizar búsquedas con XPath por medio  del método *document.evaluate()* el cual regresará un iterador con el resultado de la búsqueda.\n",
    "\n",
    "https://developer.mozilla.org/en-US/docs/Web/API/Document/evaluate\n",
    "\n",
    "```javascript\n",
    "document.evaluate(\"<expresión XPath>\", <nodo de contexto>, <solucionador de espacio de nombres>, <tipo de resultado>, <resultado alterno>)\n",
    "```\n",
    "\n",
    "* Si se quiere hacer la búsqueda desde la raíz del documento, el nodo de contexto es *document*.\n",
    "* Por lo general el solucionador de espacio de nombres es *null*.\n",
    "* Por lo general el tipo de rfeultado es *XPathResult.ANY_TYPE*.\n",
    "* Por lo general la respuesta alterna es *null*.\n",
    "\n",
    "```javascript\n",
    "document.evaluate(\"<expresión XPath>\", document, null, XPathResult.ANY_TYPE, null)\n",
    "```"
   ]
  },
  {
   "cell_type": "markdown",
   "metadata": {},
   "source": [
    "### Búsqueda con selectores.\n",
    "\n",
    "Es posible buscar elementos mediante selectores utilizando:\n",
    "\n",
    "* *element.querySelector()*, el cual regresa el primer elemento que encuentre.\n",
    "* *element.querySelectorAll()* el cual regresa un arreglo de elementos.\n",
    "\n",
    "```javascript\n",
    "document.querySelector(\"<selector>\");\n",
    "document.querySelectorAll(\"<selector>\");\n",
    "```\n"
   ]
  },
  {
   "cell_type": "markdown",
   "metadata": {},
   "source": [
    "## Eventos en el DOM.\n",
    "\n",
    "El DOM permite ligar a los elementos de un documento a acciones que incidan sobre de estos tanto por parte del usuario como de su entorno.\n",
    "\n",
    "### Eventos que pueden capturarse.\n",
    "\n",
    "Existen múltiples eventos, los cuales pueden ser capturados y que pueden ser consultados en:\n",
    "\n",
    "https://www.w3schools.com/jsref/dom_obj_event.asp\n"
   ]
  },
  {
   "cell_type": "markdown",
   "metadata": {},
   "source": [
    "### Fases de un evento.\n",
    "\n",
    "Cuando ocurre, un evento puede propagarse y desencadenar diversas acciones no sólo en el elemento que captura al evento, sino incluso a los elementos que contienen a dicho elemento y que también son sensibles al evento. \n",
    "\n",
    "A partir de lo anterior, se definen dos fases en las que se propaga un evento:\n",
    "\n",
    "* Se conoce como *bubbling* a la fase en la que un evento capturado se desencadena desde el elemento más interno, difundiéndose a los elementos de maro orden. Esta es la fase que se ejecuta por defecto.\n",
    "\n",
    "* Se conoce como *capturing* cuando un evento capturado se desencadena desde el elemento más externo, difundiéndose a los elementos de orden inferior."
   ]
  },
  {
   "cell_type": "markdown",
   "metadata": {},
   "source": [
    "### Adición de un evento a un elemento del DOM.\n",
    "\n",
    "El método *addEventListener()* permite ligar uno o varios eventos a un elemento del DOM e incluso directamente al objeto *document*.\n",
    "\n",
    "``` \n",
    "<elemento>.addEventListener(<evento>, <funcion>, <useCapture>); \n",
    "```\n",
    "\n",
    "El método ejecuta una función definida como argumento en caso de que ocurra el evento definido.\n",
    "\n",
    "El parámetro *useCapture* define la fase que se utilizará. En caso de que tenga un valor igual a *true* se define capturing y en caso de ser *false*, se define bubbling."
   ]
  },
  {
   "cell_type": "markdown",
   "metadata": {},
   "source": [
    "**Ejemplo:**\n",
    "\n",
    "Se creará un elemento *div* con *id=\"boton\"* que corresponde a una superficie cuadrada de color gris."
   ]
  },
  {
   "cell_type": "code",
   "execution_count": null,
   "metadata": {},
   "outputs": [],
   "source": [
    "%%html\n",
    "\n",
    "<style>\n",
    "    #boton\n",
    "    {\n",
    "        width: 50px;\n",
    "        height: 50px;\n",
    "        background-color: grey;\n",
    "        color: white;\n",
    "        text-align: center;\n",
    "    }\n",
    "</style>\n",
    "<div id=\"boton\"><div>"
   ]
  },
  {
   "cell_type": "markdown",
   "metadata": {},
   "source": [
    "La siguente celda definirá acciones para los siguientes eventos que ocurran sobre el elemento con *id=\"boton\"*.\n",
    "* Cuando se le de click al elemento, éste cambiará a color negro.\n",
    "* Cuando se coloque el mouse encima del elemento, este desplegará un mensaje.\n",
    "* Cuando el mouse no se sitúe encima del elemento, no deplegará ningún mensaje."
   ]
  },
  {
   "cell_type": "code",
   "execution_count": null,
   "metadata": {},
   "outputs": [],
   "source": [
    "%%javascript\n",
    "\n",
    "let boton = document.getElementById(\"boton\");\n",
    "boton.addEventListener(\"click\", function(){boton.style.backgroundColor=\"black\"});\n",
    "boton.addEventListener(\"mouseover\", function(){boton.textContent=\"¡Hola!\"});\n",
    "boton.addEventListener(\"mouseout\", function(){boton.textContent=\"\"});"
   ]
  },
  {
   "cell_type": "markdown",
   "metadata": {},
   "source": [
    "<p style=\"text-align: center\"><a rel=\"license\" href=\"http://creativecommons.org/licenses/by/4.0/\"><img alt=\"Licencia Creative Commons\" style=\"border-width:0\" src=\"https://i.creativecommons.org/l/by/4.0/80x15.png\" /></a><br />Esta obra está bajo una <a rel=\"license\" href=\"http://creativecommons.org/licenses/by/4.0/\">Licencia Creative Commons Atribución 4.0 Internacional</a>.</p>\n",
    "<p style=\"text-align: center\">&copy; José Luis Chiquete Valdivieso. 2018.</p>"
   ]
  }
 ],
 "metadata": {
  "kernelspec": {
   "display_name": "Python 3",
   "language": "python",
   "name": "python3"
  },
  "language_info": {
   "codemirror_mode": {
    "name": "ipython",
    "version": 3
   },
   "file_extension": ".py",
   "mimetype": "text/x-python",
   "name": "python",
   "nbconvert_exporter": "python",
   "pygments_lexer": "ipython3",
   "version": "3.6.4"
  }
 },
 "nbformat": 4,
 "nbformat_minor": 2
}
