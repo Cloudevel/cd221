{
 "cells": [
  {
   "cell_type": "markdown",
   "metadata": {},
   "source": [
    "[![imagenes/pythonista.png](imagenes/pythonista.png)](https://pythonista.io)"
   ]
  },
  {
   "cell_type": "markdown",
   "metadata": {},
   "source": [
    "Aún cuando este módulo pertenezca a la serie de cursos de Pythonista<sup>®</sup>, la mayor parte de este está enfocada a presentar recursos y frameworks basados en HTML, CSS, Javascript y SVG. Sólo hasta los capítulos finales de este módulo se utilizarán las notebooks de Jupyter para ejecutar código en Python.\n",
    "\n",
    "Es por lo anterior que parte de los ejercicios de este módulo se realizarán fuera de las notebooks que contienen los apuntes y se ejecutarán en un navegador web, ya sea por medio de la carga de archivos o directamente por medio de una consola de Javascript."
   ]
  },
  {
   "cell_type": "markdown",
   "metadata": {},
   "source": [
    "## Mozilla Firefox.\n",
    "\n",
    "Prácticamente todos los navegadores web modernos cuentan con herramientas de inspección de contenidos, las cuales incluyen:\n",
    "\n",
    "* Un visor de elementos.\n",
    "* Una consola con un shell de Javascript.\n",
    "* Un depurador.\n",
    "* Un editor de estilos.\n",
    "* Herramientas de medición de recursos y rendimiento.\n",
    "\n",
    "Para este curso se ha elegido utilizar Mozilla Firefox para ilustrar los apuntes y se recomienda instalar la verión más reciente de la [edición para desarrolladores de Firefox](https://www.mozilla.org/es-ES/firefox/developer/). \n",
    "\n",
    "### Accceso al inspector de elementos.\n",
    "\n",
    "Para acceder al inspector de elementos de Mozilla Firefox se deben de oprimir las teclas <kbd>Shift</kbd>+<kbd>Ctrl</kbd>+<kbd>S</kbd> de forma simultánea."
   ]
  },
  {
   "cell_type": "markdown",
   "metadata": {},
   "source": [
    "## Uso de los comandos mágicos de Jupyter.\n",
    "\n",
    "Las notebooks de Jupyter que incluyen el kernel de Python permiten ejecutar ciertos \"comandos mágicos\", que a su vez son capace de realizar diversas acciones tanto en el entorno de la notebook como en la ejecución de la celda desde la que se ejecutan dichos comandos.\n",
    "\n",
    "Para mayor información acerca de los comandos mágicos puede consultar en:\n",
    "\n",
    "https://ipython.readthedocs.io/en/stable/interactive/magics.html\n"
   ]
  },
  {
   "cell_type": "markdown",
   "metadata": {},
   "source": [
    "### El comando mágico *%%html*.\n",
    "\n",
    "Este comando permite desplegar código html son"
   ]
  },
  {
   "cell_type": "code",
   "execution_count": null,
   "metadata": {},
   "outputs": [],
   "source": [
    "%%html\n",
    "<h1>Hola Mundo.</h1>\n",
    "<p> Esta es una muestra de lo que puede hacer el comando mágico <em>%%html</em>.</p>"
   ]
  },
  {
   "cell_type": "markdown",
   "metadata": {},
   "source": [
    "## Despliegue de diversos elementos con *IPython.display*.\n",
    "\n",
    "El proyecto [*Jupyter*](https://jupyter.org/) es el resultado del desarrollo inicial del proyecto [*IPython*](https://ipython.org/). \n",
    "\n",
    "Gran parte de las funcionalidades de las notebooks de Jupyter son gestionadas por el paquete *IPython* y la visualización y ejecución de código en las celdas son parte del módulo *IPython.display*. \n",
    "\n",
    "Este módul0o permite ejecutar desplegar código en:\n",
    "\n",
    "* HTML\n",
    "* JSON\n",
    "* PNG\n",
    "* JPEG\n",
    "* SVG\n",
    "* LaTeX\n",
    "\n",
    "\n",
    "La documentación de este módulo está disponible en:\n",
    "\n",
    "http://nbviewer.jupyter.org/github/ipython/ipython/blob/3.x/examples/IPython%20Kernel/Rich%20Output.ipynb"
   ]
  },
  {
   "cell_type": "markdown",
   "metadata": {},
   "source": [
    "**Ejemplo:**\n",
    "\n",
    "https://github.com/PyGoogle/PyD3/blob/master/D3-Circle-Animation.ipynb"
   ]
  },
  {
   "cell_type": "code",
   "execution_count": null,
   "metadata": {},
   "outputs": [],
   "source": [
    "from IPython.core.display import display, HTML\n",
    "from string import Template"
   ]
  },
  {
   "cell_type": "code",
   "execution_count": null,
   "metadata": {},
   "outputs": [],
   "source": [
    "HTML('''\n",
    "<h1>Hello DOM!</h1>\n",
    "''')"
   ]
  },
  {
   "cell_type": "code",
   "execution_count": null,
   "metadata": {},
   "outputs": [],
   "source": [
    "HTML('''\n",
    "<style scoped>\n",
    ".steely {\n",
    "  color: steelblue;\n",
    "  font: 16px script;\n",
    "}\n",
    "</style>\n",
    "<h1 class=\"steely\">Hello DOM!</h1>\n",
    "''')"
   ]
  },
  {
   "cell_type": "code",
   "execution_count": null,
   "metadata": {},
   "outputs": [],
   "source": [
    "HTML('''\n",
    "<style scoped>\n",
    ".steely {\n",
    "  color: steelblue;\n",
    "  font: 16px script;\n",
    "}\n",
    "</style>\n",
    "<h1 class=\"steely\" id=\"steely-DOM\">Hello DOM!</h1>\n",
    "<script>$(\"#steely-DOM\").text(\"Hello JavaScript!!\")</script>\n",
    "''')"
   ]
  },
  {
   "cell_type": "markdown",
   "metadata": {},
   "source": [
    "https://github.com/d3/d3/releases/tag/v5.7.0"
   ]
  },
  {
   "cell_type": "code",
   "execution_count": null,
   "metadata": {},
   "outputs": [],
   "source": [
    "HTML('<script src=\"lib/d3/d3.min.js\"></script>')"
   ]
  },
  {
   "cell_type": "code",
   "execution_count": null,
   "metadata": {},
   "outputs": [],
   "source": [
    "HTML('''\n",
    "<style scoped>\n",
    ".bedazzled {\n",
    "  color: orange;\n",
    "}\n",
    "</style>\n",
    "<div id=\"d3-div-1\"></div>\n",
    "<script>\n",
    "\n",
    "var size_data = [10,20,30];\n",
    "\n",
    "d3.select(\"#d3-div-1\").selectAll('.bedazzled')\n",
    "    .data(size_data)\n",
    "    .enter().append('p')\n",
    "      .attr(\"class\",\"bedazzled\")\n",
    "      .style(\"font-size\", function(d){ return \"\" + d + \"px\";})\n",
    "      .text(\"Hello D3!\");\n",
    "\n",
    "</script>\n",
    "''')"
   ]
  },
  {
   "cell_type": "code",
   "execution_count": null,
   "metadata": {},
   "outputs": [],
   "source": [
    "size_data = [15,30,45]"
   ]
  },
  {
   "cell_type": "code",
   "execution_count": null,
   "metadata": {},
   "outputs": [],
   "source": [
    "html_template = Template('''\n",
    "<style scoped> .bedazzled {color: orange;} </style>\n",
    "<div id=\"d3-div-2\"></div>\n",
    "<script>\n",
    "\n",
    "var size_data = $size_data_python ;\n",
    "\n",
    "d3.select(\"#d3-div-2\").selectAll('.bedazzled')\n",
    "    .data(size_data)\n",
    "    .enter().append('p')\n",
    "      .attr(\"class\",\"bedazzled\")\n",
    "      .style(\"font-size\", function(d){ return \"\" + d + \"px\";})\n",
    "      .text(\"Hello D3 with Python data!\");\n",
    "\n",
    "</script>\n",
    "''')\n",
    "HTML(html_template.substitute({'size_data_python': str(size_data)}))"
   ]
  },
  {
   "cell_type": "markdown",
   "metadata": {},
   "source": [
    "<p style=\"text-align: center\"><a rel=\"license\" href=\"http://creativecommons.org/licenses/by/4.0/\"><img alt=\"Licencia Creative Commons\" style=\"border-width:0\" src=\"https://i.creativecommons.org/l/by/4.0/80x15.png\" /></a><br />Esta obra está bajo una <a rel=\"license\" href=\"http://creativecommons.org/licenses/by/4.0/\">Licencia Creative Commons Atribución 4.0 Internacional</a>.</p>\n",
    "<p style=\"text-align: center\">&copy; José Luis Chiquete Valdivieso. 2018.</p>"
   ]
  }
 ],
 "metadata": {
  "kernelspec": {
   "display_name": "Python 3",
   "language": "python",
   "name": "python3"
  },
  "language_info": {
   "codemirror_mode": {
    "name": "ipython",
    "version": 3
   },
   "file_extension": ".py",
   "mimetype": "text/x-python",
   "name": "python",
   "nbconvert_exporter": "python",
   "pygments_lexer": "ipython3",
   "version": "3.7.0"
  }
 },
 "nbformat": 4,
 "nbformat_minor": 2
}
