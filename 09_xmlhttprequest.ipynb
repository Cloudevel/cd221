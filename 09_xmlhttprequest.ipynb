{
 "cells": [
  {
   "cell_type": "markdown",
   "metadata": {},
   "source": [
    "[![imagenes/pythonista.png](imagenes/pythonista.png)](https://pythonista.io)"
   ]
  },
  {
   "cell_type": "markdown",
   "metadata": {},
   "source": [
    "La especificación [*XMLHttpRequest*](https://xhr.spec.whatwg.org/) es un estándar que ha sido implementado como una API en prácticamente todos los navegadores modernos.\n",
    "\n",
    "El objetivo de esta API es el de enviar peticiones (requests) a un servidor (HTTP, FTP, etc.) y obtener las respuestas (responses) correspondientes, directamente desde el navegador.\n",
    "\n",
    "A pesar del nombre, la API es capaz de aceptar respuestas en cualquier formato, no necesariamente XML.\n",
    "\n",
    "**Nota:** Firefox sólo permite hasta 6 conexiones simultáneas.\n",
    "\n"
   ]
  },
  {
   "cell_type": "markdown",
   "metadata": {},
   "source": [
    "## Propiedades de XMLHttpRequest \n",
    "\n",
    "* readystate\n",
    "    * 0 no se ha inicializado la petición.\n",
    "    * 1 la petición está configurada.\n",
    "    * 2 la petición fue enviada.   \n",
    "    * 3 la petición está en proceso.\n",
    "    * 4 la petición se completó.\n",
    "* status\n",
    "* statusText\n",
    "* response\n",
    "* resonseText\n",
    "* responseType\n",
    "* responseURL\n",
    "* responseXML\n",
    "* timeout\n",
    "* upload\n",
    "* withCredentials\n",
    "* onreadystatechange\n"
   ]
  },
  {
   "cell_type": "markdown",
   "metadata": {},
   "source": [
    "## Métodos de XMLHttpRequest.\n",
    "\n",
    "* open()\n",
    "* send()\n",
    "* abort()\n",
    "* getResponseHeader()\n",
    "* getAllResponseHeaders()\n",
    "* setRequestHeader()\n",
    "* overrideMimeType()"
   ]
  },
  {
   "cell_type": "markdown",
   "metadata": {},
   "source": [
    "**Ejemplo:**"
   ]
  },
  {
   "cell_type": "code",
   "execution_count": null,
   "metadata": {},
   "outputs": [],
   "source": [
    "%%html\n",
    "<div id=\"respuesta_1\"></div>\n",
    "<div id=\"respuesta_2\"></div>\n"
   ]
  },
  {
   "cell_type": "code",
   "execution_count": null,
   "metadata": {},
   "outputs": [],
   "source": [
    "%%javascript\n",
    "const conexion = new XMLHttpRequest();\n",
    "let respuesta_1 = document.getElementById(\"respuesta_1\");\n",
    "let respuesta_2 = document.getElementById(\"respuesta_2\");\n",
    "\n",
    "conexion.onreadystatechange = function() {\n",
    "    if(conexion.readyState == 4){\n",
    "        \n",
    "        if (conexion.status == 200){\n",
    "            \n",
    "            respuesta_1.textContent = conexion.responseText; \n",
    "            respuesta_2.textContent = conexion.responseURL; \n",
    "        }\n",
    "        if (conexion.status == 404){\n",
    "            \n",
    "            respuesta_2.textContent = \"error\";  \n",
    "        }\n",
    "    }\n",
    "}\n",
    "\n",
    "conexion.open(\"get\", \"html/ejemplo_d3.html\", true);\n",
    "conexion.send();"
   ]
  },
  {
   "cell_type": "markdown",
   "metadata": {},
   "source": [
    "<p style=\"text-align: center\"><a rel=\"license\" href=\"http://creativecommons.org/licenses/by/4.0/\"><img alt=\"Licencia Creative Commons\" style=\"border-width:0\" src=\"https://i.creativecommons.org/l/by/4.0/80x15.png\" /></a><br />Esta obra está bajo una <a rel=\"license\" href=\"http://creativecommons.org/licenses/by/4.0/\">Licencia Creative Commons Atribución 4.0 Internacional</a>.</p>\n",
    "<p style=\"text-align: center\">&copy; José Luis Chiquete Valdivieso. 2018.</p>"
   ]
  }
 ],
 "metadata": {
  "kernelspec": {
   "display_name": "Python 3",
   "language": "python",
   "name": "python3"
  },
  "language_info": {
   "codemirror_mode": {
    "name": "ipython",
    "version": 3
   },
   "file_extension": ".py",
   "mimetype": "text/x-python",
   "name": "python",
   "nbconvert_exporter": "python",
   "pygments_lexer": "ipython3",
   "version": "3.6.4"
  }
 },
 "nbformat": 4,
 "nbformat_minor": 2
}
