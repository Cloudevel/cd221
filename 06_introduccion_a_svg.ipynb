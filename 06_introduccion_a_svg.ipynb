{
 "cells": [
  {
   "cell_type": "markdown",
   "metadata": {},
   "source": [
    "[![imagenes/pythonista.png](imagenes/pythonista.png)](https://pythonista.io)"
   ]
  },
  {
   "cell_type": "markdown",
   "metadata": {},
   "source": [
    "[SVG](https://www.w3.org/Graphics/SVG/) es una especificación de la W3C para definir un formato de imágenes vectoriales capaces de ser desplegadas por diversas herramientas y particularmente en navegadores web.\n",
    "\n",
    "Actualmente diversas herramientas de diseño, paquetes ofimáticos y navegadores pueden exportar, importar y desplegar imágenes en formato SVG. Para identificar archivos que contengan una imagen con esta especificación se utiliza la extensión *.svg*.\n",
    "\n",
    "Hay un tutorial disponible en https://www.w3schools.com/graphics/svg_intro.asp.\n",
    "\n",
    "Además la documentación de Mozilla es muy completa https://developer.mozilla.org/es/docs/Web/SVG"
   ]
  },
  {
   "cell_type": "markdown",
   "metadata": {},
   "source": [
    "## Estructura de un elemento SVG.\n",
    "\n",
    "Las imágenes SVG se definen mediante una estructura de etiquetas similar a HTML y es compatible con CSS y DOM.\n",
    "\n",
    "Para indicar de que se trata de una imagen svg se utiliza la etiqueta *&lt;svg&gt;*."
   ]
  },
  {
   "cell_type": "markdown",
   "metadata": {},
   "source": [
    "## Dimensiones de una imagen SVG.\n",
    "\n",
    "Los atributos mínimos de una imagen SVG son *width* y *height* para definir el tamaño de esta."
   ]
  },
  {
   "cell_type": "markdown",
   "metadata": {},
   "source": [
    "**Ejemplo:**"
   ]
  },
  {
   "cell_type": "code",
   "execution_count": null,
   "metadata": {
    "scrolled": false
   },
   "outputs": [],
   "source": [
    "%%svg\n",
    "\n",
    "<svg width=\"50px\" height=\"50px\">\n",
    "</svg>"
   ]
  },
  {
   "cell_type": "markdown",
   "metadata": {},
   "source": [
    "## Sistema de referencia de la imagen.\n",
    "\n",
    "* Por defecto, los puntos dentro de una imagen SVG se identfican mediante las coordenadas cartesianas (x, y) tomando al punto de origen (0,0) a la esquina superior izquierda de la imagen.\n",
    "* Por defecto, las unidades corresponden a las unidades definidas para dimensionar a la imagen."
   ]
  },
  {
   "cell_type": "markdown",
   "metadata": {},
   "source": [
    "## Trazado de líneas rectas.\n",
    "\n",
    "Para trazar una línea se utiliza la etiqueta *&lt;line&gt;* definiendo las coordenadas de sus 2 puntos extremos de la siguiente forma:\n",
    "\n",
    "```html\n",
    " <line x1=\"(valor numérico)\" y1=\"(valor numérico)\" x2=\"(valor numérico)\" y2=\"(valor numérico)\" stroke=\"(color)\"/>  \n",
    "```\n",
    "\n",
    "Donde:\n",
    "* *x1* y *y1* corresponden a las coordenadas cartesianas del primer punto de la línea.\n",
    "* *x2* y *y2* corresponden a las coordenadas cartesianas del segundo punto de la línea.\n",
    "* *stroke* corresponde al color de la línea.\n",
    "\n",
    "El color de la línea es negro por defecto."
   ]
  },
  {
   "cell_type": "markdown",
   "metadata": {},
   "source": [
    "**Ejemplo:**\n",
    "\n",
    "Se trazarán 3 líneas rectas, pero una de ellas utilizará coordenadas que quedan fuera de la imagen."
   ]
  },
  {
   "cell_type": "code",
   "execution_count": null,
   "metadata": {},
   "outputs": [],
   "source": [
    "%%svg\n",
    "\n",
    "<svg width=\"100px\" height=\"100px\">\n",
    "    <line x1=\"0\" y1=\"15\" x2=\"90\" y2=\"63\" stroke=\"blue\" id=\"linea1\"/>  \n",
    "    <line x1=\"-6\" y1=\"0\" x2=\"73\" y2=\"85\" stroke=\"red\" id=\"linea2\"/>\n",
    "    <line x1=\"-3\" y1=\"15\" x2=\"-8\" y2=\"63\" stroke=\"orange\" id=\"linea3\"/> \n",
    "</svg>"
   ]
  },
  {
   "cell_type": "markdown",
   "metadata": {},
   "source": [
    "## Trazado de rectángulos.\n",
    "\n",
    "Para trazar un rectángulo se utiliza la etiqueta *&lt;rect&gt;* definiendo la coordenada de su esquina superior izquierda, su ancho y su largo de la siguiente forma:\n",
    "\n",
    "```html\n",
    " <rect x=\"(valor numérico)\" y=\"(valor numérico)\" width=\"(valor numérico)\" height=\"(valor numérico)\"/>  \n",
    "```\n",
    "\n",
    "Donde:\n",
    "* *x* y *y* corresponden a las coordenadas cartesianas de la esquina inferior izquierda.\n",
    "\n",
    "* *width* corresponde al ancho del rectángulo.\n",
    "* *height* coreeponde al alto del rectángulo.\n",
    "\n",
    "\n",
    "Adicionalmente se pueden definir:\n",
    "\n",
    "* Bordes redondeados mediante los atributos *rx* y *ry*.\n",
    "* Línea perimetral con *stroke*.\n",
    "* El color por defecto de la superficie es negro, pero se puede definir con el atributo *fill*."
   ]
  },
  {
   "cell_type": "markdown",
   "metadata": {},
   "source": [
    "**Ejemplos:**"
   ]
  },
  {
   "cell_type": "code",
   "execution_count": null,
   "metadata": {},
   "outputs": [],
   "source": [
    "%%svg\n",
    "\n",
    "<svg width=\"100px\" height=\"100px\">\n",
    "    <rect x=\"10\" y=\"10\" width=\"60\" height=\"20\"/>  \n",
    "</svg>"
   ]
  },
  {
   "cell_type": "code",
   "execution_count": null,
   "metadata": {},
   "outputs": [],
   "source": [
    "%%svg\n",
    "\n",
    "<svg width=\"100px\" height=\"100px\">\n",
    "    <rect x=\"10\" y=\"10\" width=\"60\" height=\"80\" stroke=\"blue\" rx=\"5\" ry=\"5\" fill=\"red\"/>  \n",
    "</svg>"
   ]
  },
  {
   "cell_type": "markdown",
   "metadata": {},
   "source": [
    "## Trazado de una polilínea.\n",
    "\n",
    "\n",
    "Para trazar un polígono cerrado se utiliza la etiqueta *&lt;polyline&gt;* definiendo la coordenadas de cada esquina de este en formato x,y:\n",
    "\n",
    "```html\n",
    " <polyline points=\"(pares x,y separado por espacios)\"/>  \n",
    "```\n",
    "\n",
    "Adicionalmente se pueden definir:\n",
    "\n",
    "* En caso de que se quiera una polilínea abierta se debe de incluir *fill=\"none\"*.\n",
    "* Línea con *stroke*."
   ]
  },
  {
   "cell_type": "markdown",
   "metadata": {},
   "source": [
    "**Ejemplos:**"
   ]
  },
  {
   "cell_type": "code",
   "execution_count": null,
   "metadata": {},
   "outputs": [],
   "source": [
    "%%svg\n",
    "\n",
    "<svg width=\"100px\" height=\"100px\" stroke-width=\"1%\" id=\"poli\">\n",
    "    <polyline points=\"0,5 10,20 35,60, 100,50, 60,45\" fill=\"none\" stroke=\"red\"/>  \n",
    "</svg>"
   ]
  },
  {
   "cell_type": "code",
   "execution_count": null,
   "metadata": {},
   "outputs": [],
   "source": [
    "%%svg\n",
    "\n",
    "<svg width=\"100px\" height=\"100px\">\n",
    "    <polyline points=\"0,5 10,20 35,60, 100,50, 60,45\" fill=\"orange\" stroke=\"red\"/>  \n",
    "</svg>"
   ]
  },
  {
   "cell_type": "markdown",
   "metadata": {},
   "source": [
    "## Trazado de un polígono cerrado.\n",
    "\n",
    "\n",
    "Para trazar un polígono cerrado se utiliza la etiqueta *&lt;polygon&gt;* definiendo la coordenadas de cada esquina de este en formato x,y:\n",
    "\n",
    "```html\n",
    " <polygon points=\"(pares x,y separado por espacios)\"/>  \n",
    "```\n",
    "\n",
    "Adicionalmente se pueden definir:\n",
    "\n",
    "* Línea perimetral con *stroke*.\n",
    "* El color por defecto de la superficie es negro, pero se puede definir con el atributo *fill*."
   ]
  },
  {
   "cell_type": "markdown",
   "metadata": {},
   "source": [
    "**Ejemplo:**"
   ]
  },
  {
   "cell_type": "code",
   "execution_count": null,
   "metadata": {},
   "outputs": [],
   "source": [
    "%%svg\n",
    "\n",
    "<svg width=\"100px\" height=\"100px\">\n",
    "    <polygon points=\"0,5 10,80, 45,60\" fill=\"grey\" stroke=\"gold\"/>   \n",
    "</svg>"
   ]
  },
  {
   "cell_type": "markdown",
   "metadata": {},
   "source": [
    "## Trazado de un círculo.\n",
    "\n",
    "Para trazar un círculo se utiliza la etiqueta &lt,polygon&gt; definiendo la coordenadas del centro y su radio:\n",
    "\n",
    " <circle cx=\"(valor)\" cy=\"(valor)\", r=\"valor\"/>  \n",
    "\n",
    "Adicionalmente se pueden definir:\n",
    "\n",
    "* Línea perimetral con *stroke*.\n",
    "* El color por defecto de la superficie es negro, pero se puede definir con el atributo *fill*.\n",
    "\n"
   ]
  },
  {
   "cell_type": "markdown",
   "metadata": {},
   "source": [
    "**Ejemplos:**"
   ]
  },
  {
   "cell_type": "code",
   "execution_count": null,
   "metadata": {},
   "outputs": [],
   "source": [
    "%%svg\n",
    "\n",
    "<svg width=\"100px\" height=\"100px\">\n",
    "    <circle cx=\"50\" cy=\"50\" r=\"25\" fill=\"none\" stroke=\"black\" />  \n",
    "</svg>"
   ]
  },
  {
   "cell_type": "code",
   "execution_count": null,
   "metadata": {
    "scrolled": true
   },
   "outputs": [],
   "source": [
    "%%svg\n",
    "\n",
    "<svg width=\"100px\" height=\"100px\">\n",
    "    <circle cx=\"0\" cy=\"0\" r=\"50\" fill=\"blue\"/>  \n",
    "</svg>"
   ]
  },
  {
   "cell_type": "markdown",
   "metadata": {},
   "source": [
    "## Trazado de una elipse."
   ]
  },
  {
   "cell_type": "code",
   "execution_count": null,
   "metadata": {},
   "outputs": [],
   "source": []
  },
  {
   "cell_type": "markdown",
   "metadata": {},
   "source": [
    "## Trazado de texto."
   ]
  },
  {
   "cell_type": "code",
   "execution_count": null,
   "metadata": {},
   "outputs": [],
   "source": []
  },
  {
   "cell_type": "markdown",
   "metadata": {},
   "source": [
    "## Trazado de una ruta."
   ]
  },
  {
   "cell_type": "code",
   "execution_count": null,
   "metadata": {},
   "outputs": [],
   "source": []
  },
  {
   "cell_type": "markdown",
   "metadata": {},
   "source": [
    "## Transformaciones."
   ]
  },
  {
   "cell_type": "code",
   "execution_count": null,
   "metadata": {},
   "outputs": [],
   "source": []
  },
  {
   "cell_type": "markdown",
   "metadata": {},
   "source": [
    "## Animaciones."
   ]
  },
  {
   "cell_type": "markdown",
   "metadata": {},
   "source": [
    "<p style=\"text-align: center\"><a rel=\"license\" href=\"http://creativecommons.org/licenses/by/4.0/\"><img alt=\"Licencia Creative Commons\" style=\"border-width:0\" src=\"https://i.creativecommons.org/l/by/4.0/80x15.png\" /></a><br />Esta obra está bajo una <a rel=\"license\" href=\"http://creativecommons.org/licenses/by/4.0/\">Licencia Creative Commons Atribución 4.0 Internacional</a>.</p>\n",
    "<p style=\"text-align: center\">&copy; José Luis Chiquete Valdivieso. 2018.</p>"
   ]
  }
 ],
 "metadata": {
  "kernelspec": {
   "display_name": "Python 3",
   "language": "python",
   "name": "python3"
  },
  "language_info": {
   "codemirror_mode": {
    "name": "ipython",
    "version": 3
   },
   "file_extension": ".py",
   "mimetype": "text/x-python",
   "name": "python",
   "nbconvert_exporter": "python",
   "pygments_lexer": "ipython3",
   "version": "3.6.4"
  }
 },
 "nbformat": 4,
 "nbformat_minor": 2
}
