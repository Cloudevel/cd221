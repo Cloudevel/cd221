{
 "cells": [
  {
   "cell_type": "markdown",
   "metadata": {},
   "source": [
    "[![imagenes/pythonista.png](imagenes/pythonista.png)](https://pythonista.io)"
   ]
  },
  {
   "cell_type": "code",
   "execution_count": 2,
   "metadata": {},
   "outputs": [
    {
     "name": "stdout",
     "output_type": "stream",
     "text": [
      "Collecting flask\n",
      "\u001b[?25l  Downloading https://files.pythonhosted.org/packages/7f/e7/08578774ed4536d3242b14dacb4696386634607af824ea997202cd0edb4b/Flask-1.0.2-py2.py3-none-any.whl (91kB)\n",
      "\u001b[K    100% |████████████████████████████████| 92kB 848kB/s ta 0:00:01\n",
      "\u001b[?25hRequirement already satisfied: Jinja2>=2.10 in /home/oi/pythonista/lib/python3.6/site-packages (from flask) (2.10)\n",
      "Collecting itsdangerous>=0.24 (from flask)\n",
      "  Downloading https://files.pythonhosted.org/packages/76/ae/44b03b253d6fade317f32c24d100b3b35c2239807046a4c953c7b89fa49e/itsdangerous-1.1.0-py2.py3-none-any.whl\n",
      "Collecting Werkzeug>=0.14 (from flask)\n",
      "\u001b[?25l  Downloading https://files.pythonhosted.org/packages/20/c4/12e3e56473e52375aa29c4764e70d1b8f3efa6682bef8d0aae04fe335243/Werkzeug-0.14.1-py2.py3-none-any.whl (322kB)\n",
      "\u001b[K    100% |████████████████████████████████| 327kB 6.7MB/s eta 0:00:01\n",
      "\u001b[?25hCollecting click>=5.1 (from flask)\n",
      "\u001b[?25l  Downloading https://files.pythonhosted.org/packages/fa/37/45185cb5abbc30d7257104c434fe0b07e5a195a6847506c074527aa599ec/Click-7.0-py2.py3-none-any.whl (81kB)\n",
      "\u001b[K    100% |████████████████████████████████| 81kB 6.2MB/s ta 0:00:01\n",
      "\u001b[?25hRequirement already satisfied: MarkupSafe>=0.23 in /home/oi/pythonista/lib/python3.6/site-packages (from Jinja2>=2.10->flask) (1.0)\n",
      "Installing collected packages: itsdangerous, Werkzeug, click, flask\n",
      "Successfully installed Werkzeug-0.14.1 click-7.0 flask-1.0.2 itsdangerous-1.1.0\n",
      "\u001b[33mYou are using pip version 10.0.0, however version 18.1 is available.\n",
      "You should consider upgrading via the 'pip install --upgrade pip' command.\u001b[0m\n"
     ]
    }
   ],
   "source": [
    "!pip install flask"
   ]
  },
  {
   "cell_type": "code",
   "execution_count": 4,
   "metadata": {},
   "outputs": [],
   "source": [
    "from flask import Flask\n",
    "app = Flask(__name__)\n",
    "\n",
    "@app.route(\"/\")\n",
    "def hello():\n",
    "    return \"Hello World!\""
   ]
  },
  {
   "cell_type": "code",
   "execution_count": null,
   "metadata": {},
   "outputs": [
    {
     "name": "stdout",
     "output_type": "stream",
     "text": [
      " * Serving Flask app \"__main__\" (lazy loading)\n",
      " * Environment: production\n",
      "   WARNING: Do not use the development server in a production environment.\n",
      "   Use a production WSGI server instead.\n",
      " * Debug mode: off\n"
     ]
    },
    {
     "name": "stderr",
     "output_type": "stream",
     "text": [
      " * Running on http://0.0.0.0:5000/ (Press CTRL+C to quit)\n",
      "10.0.2.2 - - [10/Dec/2018 17:44:47] \"GET / HTTP/1.1\" 200 -\n",
      "10.0.2.2 - - [10/Dec/2018 17:44:47] \"GET /favicon.ico HTTP/1.1\" 404 -\n",
      "10.0.2.2 - - [10/Dec/2018 17:46:13] \"GET /favicon.ico HTTP/1.1\" 404 -\n",
      "10.0.2.2 - - [10/Dec/2018 17:46:25] \"GET / HTTP/1.1\" 200 -\n",
      "10.0.2.2 - - [10/Dec/2018 17:46:25] \"GET /favicon.ico HTTP/1.1\" 404 -\n",
      "10.0.2.2 - - [10/Dec/2018 17:46:28] \"GET / HTTP/1.1\" 200 -\n",
      "10.0.2.2 - - [10/Dec/2018 17:46:28] \"GET /favicon.ico HTTP/1.1\" 404 -\n",
      "10.0.2.2 - - [10/Dec/2018 17:46:42] \"GET / HTTP/1.1\" 200 -\n",
      "10.0.2.2 - - [10/Dec/2018 17:46:43] \"GET /favicon.ico HTTP/1.1\" 404 -\n",
      "10.0.2.2 - - [10/Dec/2018 17:46:44] \"GET / HTTP/1.1\" 200 -\n",
      "10.0.2.2 - - [10/Dec/2018 17:46:44] \"GET /favicon.ico HTTP/1.1\" 404 -\n",
      "10.0.2.2 - - [10/Dec/2018 17:46:45] \"GET / HTTP/1.1\" 200 -\n",
      "10.0.2.2 - - [10/Dec/2018 17:46:45] \"GET /favicon.ico HTTP/1.1\" 404 -\n"
     ]
    }
   ],
   "source": [
    "app.run(host='0.0.0.0')"
   ]
  },
  {
   "cell_type": "markdown",
   "metadata": {},
   "source": [
    "<p style=\"text-align: center\"><a rel=\"license\" href=\"http://creativecommons.org/licenses/by/4.0/\"><img alt=\"Licencia Creative Commons\" style=\"border-width:0\" src=\"https://i.creativecommons.org/l/by/4.0/80x15.png\" /></a><br />Esta obra está bajo una <a rel=\"license\" href=\"http://creativecommons.org/licenses/by/4.0/\">Licencia Creative Commons Atribución 4.0 Internacional</a>.</p>\n",
    "<p style=\"text-align: center\">&copy; José Luis Chiquete Valdivieso. 2018.</p>"
   ]
  }
 ],
 "metadata": {
  "kernelspec": {
   "display_name": "Python 3",
   "language": "python",
   "name": "python3"
  },
  "language_info": {
   "codemirror_mode": {
    "name": "ipython",
    "version": 3
   },
   "file_extension": ".py",
   "mimetype": "text/x-python",
   "name": "python",
   "nbconvert_exporter": "python",
   "pygments_lexer": "ipython3",
   "version": "3.6.4"
  }
 },
 "nbformat": 4,
 "nbformat_minor": 2
}
