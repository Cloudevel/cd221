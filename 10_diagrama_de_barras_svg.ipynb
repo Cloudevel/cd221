{
 "cells": [
  {
   "cell_type": "markdown",
   "metadata": {},
   "source": [
    "[![imagenes/pythonista.png](imagenes/pythonista.png)](https://pythonista.io)"
   ]
  },
  {
   "cell_type": "markdown",
   "metadata": {},
   "source": [
    "https://goo.gl/fFQAXW"
   ]
  },
  {
   "cell_type": "code",
   "execution_count": null,
   "metadata": {},
   "outputs": [],
   "source": [
    "%%html\n",
    "<div id=\"ejemplo_1\"></div>"
   ]
  },
  {
   "cell_type": "code",
   "execution_count": null,
   "metadata": {},
   "outputs": [],
   "source": [
    "%%javascript\n",
    "const datos = {\"1910\": 15160369, \"1921\": 14334780, \"1930\": 16552722, \n",
    "               \"1940\": 19653552, \"1950\": 25791017, \"1960\": 34923129,\n",
    "               \"1970\": 48225238, \"1980\": 66846833, \"1990\": 81249645,\n",
    "               \"1995\": 91158290, \"2000\": 97483412, \"2005\": 103263388,\n",
    "               \"2010\": 112336538, \"2015\": 119938473};\n",
    "\n",
    "\n",
    "let ejemplo = document.getElementById(\"ejemplo_1\");\n",
    "for (let dato in datos){\n",
    "    let parrafo = document.createElement(\"p\");\n",
    "    parrafo.textContent = dato.toString() + \": \" \n",
    "        + Math.round(datos[dato] / 1000000).toString();\n",
    "    ejemplo.appendChild(parrafo);\n",
    "}"
   ]
  },
  {
   "cell_type": "code",
   "execution_count": null,
   "metadata": {},
   "outputs": [],
   "source": [
    "%%html\n",
    "<svg id=\"ejemplo_2\" width=\"200\" height=\"230\">\n",
    "</svg>"
   ]
  },
  {
   "cell_type": "code",
   "execution_count": null,
   "metadata": {},
   "outputs": [],
   "source": [
    "%%javascript\n",
    "const datos = {\"1910\": 15160369, \"1921\": 14334780, \"1930\": 16552722, \n",
    "               \"1940\": 19653552, \"1950\": 25791017, \"1960\": 34923129,\n",
    "               \"1970\": 48225238, \"1980\": 66846833, \"1990\": 81249645,\n",
    "               \"1995\": 91158290, \"2000\": 97483412, \"2005\": 103263388,\n",
    "               \"2010\": 112336538, \"2015\": 119938473};\n",
    "\n",
    "const NS=\"http://www.w3.org/2000/svg\";\n",
    "let ejemplo = document.getElementById(\"ejemplo_2\");\n",
    "let contador = 0;\n",
    "for (let dato in datos){\n",
    "    let rectangulo = document.createElementNS(NS,\"rect\");\n",
    "    rectangulo.setAttribute(\"x\", \"0\");\n",
    "    rectangulo.setAttribute(\"y\", contador.toString());\n",
    "    rectangulo.setAttribute(\"height\", \"10\");\n",
    "    rectangulo.setAttribute(\"fill\", \"black\");\n",
    "    let ancho = Math.round(datos[dato] / 1000000).toString();\n",
    "    rectangulo.setAttribute(\"width\", ancho);\n",
    "    ejemplo.append(rectangulo);\n",
    "    contador += 15;\n",
    "}"
   ]
  },
  {
   "cell_type": "code",
   "execution_count": null,
   "metadata": {},
   "outputs": [],
   "source": [
    "%%html\n",
    "<svg id=\"ejemplo_3\" width=\"200\" height=\"230\">\n",
    "</svg>"
   ]
  },
  {
   "cell_type": "code",
   "execution_count": null,
   "metadata": {},
   "outputs": [],
   "source": [
    "%%javascript\n",
    "const datos = {\"1910\": 15160369, \"1921\": 14334780, \"1930\": 16552722, \n",
    "               \"1940\": 19653552, \"1950\": 25791017, \"1960\": 34923129,\n",
    "               \"1970\": 48225238, \"1980\": 66846833, \"1990\": 81249645,\n",
    "               \"1995\": 91158290, \"2000\": 97483412, \"2005\": 103263388,\n",
    "               \"2010\": 112336538, \"2015\": 119938473};\n",
    "\n",
    "const NS=\"http://www.w3.org/2000/svg\";\n",
    "let ejemplo = document.getElementById(\"ejemplo_3\");\n",
    "let contador = 0;\n",
    "for (let dato in datos){\n",
    "    let texto = document.createElementNS(NS,\"text\");\n",
    "    texto.setAttribute(\"fill\", \"\");\n",
    "    texto.setAttribute(\"x\", \"0\");\n",
    "    let incioTexto = contador + 10;\n",
    "    texto.setAttribute(\"y\", contador.toString());\n",
    "    texto.append(dato.toString());\n",
    "    ejemplo.append(texto);\n",
    "    let rectangulo = document.createElementNS(NS,\"rect\");\n",
    "    rectangulo.setAttribute(\"x\", \"50\");\n",
    "    rectangulo.setAttribute(\"y\", contador.toString());\n",
    "    rectangulo.setAttribute(\"height\", \"10\");\n",
    "    rectangulo.setAttribute(\"fill\", \"black\");\n",
    "    let ancho = Math.round(datos[dato] / 1000000).toString();\n",
    "    rectangulo.setAttribute(\"width\", ancho);\n",
    "    ejemplo.append(rectangulo);\n",
    "    contador += 15;\n",
    "}"
   ]
  },
  {
   "cell_type": "markdown",
   "metadata": {},
   "source": [
    "<p style=\"text-align: center\"><a rel=\"license\" href=\"http://creativecommons.org/licenses/by/4.0/\"><img alt=\"Licencia Creative Commons\" style=\"border-width:0\" src=\"https://i.creativecommons.org/l/by/4.0/80x15.png\" /></a><br />Esta obra está bajo una <a rel=\"license\" href=\"http://creativecommons.org/licenses/by/4.0/\">Licencia Creative Commons Atribución 4.0 Internacional</a>.</p>\n",
    "<p style=\"text-align: center\">&copy; José Luis Chiquete Valdivieso. 2018.</p>"
   ]
  }
 ],
 "metadata": {
  "kernelspec": {
   "display_name": "Python 3",
   "language": "python",
   "name": "python3"
  },
  "language_info": {
   "codemirror_mode": {
    "name": "ipython",
    "version": 3
   },
   "file_extension": ".py",
   "mimetype": "text/x-python",
   "name": "python",
   "nbconvert_exporter": "python",
   "pygments_lexer": "ipython3",
   "version": "3.6.5"
  }
 },
 "nbformat": 4,
 "nbformat_minor": 2
}
