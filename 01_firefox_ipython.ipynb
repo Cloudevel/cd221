{
 "cells": [
  {
   "cell_type": "markdown",
   "metadata": {},
   "source": [
    "[![imagenes/pythonista.png](imagenes/pythonista.png)](https://pythonista.io)"
   ]
  },
  {
   "cell_type": "markdown",
   "metadata": {},
   "source": [
    "Aún cuando este módulo pertenezca a la serie de cursos de Pythonista<sup>®</sup>, la mayor parte de este está enfocada a presentar recursos y frameworks basados en HTML, CSS, Javascript y SVG. Sólo hasta los capítulos finales de este módulo se utilizarán las notebooks de Jupyter para ejecutar código en Python.\n",
    "\n",
    "Es por lo anterior que parte de los ejercicios de este módulo se realizarán fuera de las notebooks que contienen los apuntes y se ejecutarán en un navegador web, ya sea por medio de la carga de archivos o directamente por medio de una consola de Javascript."
   ]
  },
  {
   "cell_type": "markdown",
   "metadata": {},
   "source": [
    "## Mozilla Firefox.\n",
    "\n",
    "Prácticamente todos los navegadores web modernos cuentan con herramientas de inspección de contenidos, las cuales incluyen:\n",
    "\n",
    "* Un visor de elementos.\n",
    "* Una consola con un shell de Javascript.\n",
    "* Un depurador.\n",
    "* Un editor de estilos.\n",
    "* Herramientas de medición de recursos y rendimiento.\n",
    "\n",
    "Para este curso se ha elegido utilizar Mozilla Firefox para ilustrar los apuntes y se recomienda instalar la verión más reciente de la [edición para desarrolladores de Firefox](https://www.mozilla.org/es-ES/firefox/developer/). \n",
    "\n",
    "### Accceso al inspector de elementos.\n",
    "\n",
    "Para acceder al inspector de elementos de Mozilla Firefox se deben de oprimir las teclas <kbd>Shift</kbd>+<kbd>Ctrl</kbd>+<kbd>S</kbd> de forma simultánea."
   ]
  },
  {
   "cell_type": "markdown",
   "metadata": {},
   "source": [
    "## Uso de los comandos mágicos de Jupyter.\n",
    "\n",
    "Las notebooks de Jupyter que incluyen el kernel de Python permiten ejecutar ciertos \"comandos mágicos\", que a su vez son capace de realizar diversas acciones tanto en el entorno de la notebook como en la ejecución de la celda desde la que se ejecutan dichos comandos.\n",
    "\n",
    "Para mayor información acerca de los comandos mágicos puede consultar en:\n",
    "\n",
    "https://ipython.readthedocs.io/en/stable/interactive/magics.html\n"
   ]
  },
  {
   "cell_type": "markdown",
   "metadata": {},
   "source": [
    "### El comando mágico *%%html*.\n",
    "\n",
    "Este comando permite desplegar código HTML desde una celda de código. Dicho código se vuelve parte del objeto *document* que conforma a la notebook."
   ]
  },
  {
   "cell_type": "markdown",
   "metadata": {},
   "source": [
    "**Ejemplo:**"
   ]
  },
  {
   "cell_type": "code",
   "execution_count": null,
   "metadata": {
    "scrolled": true
   },
   "outputs": [],
   "source": [
    "%%html\n",
    "<h1>Hola Mundo.</h1>\n",
    "<p> Esta es una muestra de lo que puede hacer el comando mágico <em>%%html</em>.</p>"
   ]
  },
  {
   "cell_type": "markdown",
   "metadata": {},
   "source": [
    "### El comando mágico *%%svg*.\n",
    "\n",
    "Este comando mágico permite dibujar formas vectoriales a partir de código SVG. Dicho código se vuelve parte del objeto *document* que conforma a la notebook."
   ]
  },
  {
   "cell_type": "markdown",
   "metadata": {},
   "source": [
    "**Ejemplo:**"
   ]
  },
  {
   "cell_type": "code",
   "execution_count": null,
   "metadata": {
    "scrolled": false
   },
   "outputs": [],
   "source": [
    "%%svg\n",
    " <svg height=\"100\" width=\"100\">\n",
    "  <circle cx=\"50\" cy=\"50\" r=\"40\" stroke=\"black\" stroke-width=\"3\" fill=\"blue\" id=\"circulo\"/>\n",
    "</svg> "
   ]
  },
  {
   "cell_type": "markdown",
   "metadata": {},
   "source": [
    "### El comando mágico *%%javascript*.\n",
    "\n",
    "Este comando mágico permite ejecutar código en Javacript el cual es capaz de inertactuar con el DOM de la notebook que lo contiene."
   ]
  },
  {
   "cell_type": "markdown",
   "metadata": {},
   "source": [
    "**Ejemplo:**"
   ]
  },
  {
   "cell_type": "code",
   "execution_count": null,
   "metadata": {
    "scrolled": false
   },
   "outputs": [],
   "source": [
    "%%javascript\n",
    "\n",
    "let cuerpo = document.getElementsByTagName(\"body\")[0];\n",
    "cuerpo.style.backgroundColor=\"gray\";\n",
    "let circulo = document.getElementById(\"circulo\");\n",
    "circulo.style.fill=\"yellow\";"
   ]
  },
  {
   "cell_type": "markdown",
   "metadata": {},
   "source": [
    "## Despliegue de diversos elementos con *IPython.display*.\n",
    "\n",
    "El proyecto [*Jupyter*](https://jupyter.org/) es el resultado del desarrollo inicial del proyecto [*IPython*](https://ipython.org/). \n",
    "\n",
    "Gran parte de las funcionalidades de las notebooks de Jupyter son gestionadas por el paquete *IPython* y la visualización y ejecución de código en las celdas son parte del módulo *IPython.display*. \n",
    "\n",
    "Este módulo permite ejecutar desplegar código en:\n",
    "\n",
    "* HTML\n",
    "* JSON\n",
    "* PNG\n",
    "* JPEG\n",
    "* SVG\n",
    "* LaTeX\n",
    "\n",
    "\n",
    "La documentación de este módulo está disponible en:\n",
    "\n",
    "http://nbviewer.jupyter.org/github/ipython/ipython/blob/3.x/examples/IPython%20Kernel/Rich%20Output.ipynb"
   ]
  },
  {
   "cell_type": "markdown",
   "metadata": {},
   "source": [
    "**Ejemplo:**\n",
    "\n",
    "https://github.com/stitchfix/d3-jupyter-tutorial/blob/master/hello_dom.ipynb"
   ]
  },
  {
   "cell_type": "code",
   "execution_count": null,
   "metadata": {
    "scrolled": false
   },
   "outputs": [],
   "source": [
    "from IPython.core.display import display, HTML"
   ]
  },
  {
   "cell_type": "code",
   "execution_count": null,
   "metadata": {
    "scrolled": false
   },
   "outputs": [],
   "source": [
    "HTML('''\n",
    "<h1>¡Hola, DOM!</h1>\n",
    "''')"
   ]
  },
  {
   "cell_type": "code",
   "execution_count": null,
   "metadata": {
    "scrolled": false
   },
   "outputs": [],
   "source": [
    "HTML('''\n",
    "<style scoped>\n",
    ".estilizado {\n",
    "  color: steelblue;\n",
    "  font: 16px script;\n",
    "}\n",
    "</style>\n",
    "<h1 class=\"estilizado\">¡Hola, DOM!</h1>\n",
    "''')"
   ]
  },
  {
   "cell_type": "code",
   "execution_count": null,
   "metadata": {
    "scrolled": false
   },
   "outputs": [],
   "source": [
    "HTML('''\n",
    "<style scoped>\n",
    ".estilizado {\n",
    "  color: steelblue;\n",
    "  font: 16px script;\n",
    "}\n",
    "</style>\n",
    "<h1 class=\"estilizado\" id=\"estilizado-DOM\">¡Hola, DOM!</h1>\n",
    "<script>$(\"#estilizado-DOM\").text(\"¡Hola, JavaScript!\")</script>\n",
    "''')"
   ]
  },
  {
   "cell_type": "markdown",
   "metadata": {},
   "source": [
    "https://github.com/d3/d3/releases/tag/v5.7.0"
   ]
  },
  {
   "cell_type": "markdown",
   "metadata": {},
   "source": [
    "https://www.stefaanlippens.net/jupyter-custom-d3-visualization.html"
   ]
  },
  {
   "cell_type": "code",
   "execution_count": null,
   "metadata": {
    "scrolled": false
   },
   "outputs": [],
   "source": [
    "HTML('''\n",
    "<script>\n",
    "    require.config({\n",
    "        paths: {\n",
    "            d3: 'https://d3js.org/d3.v5.min'\n",
    "        }\n",
    "    })\n",
    "</script>\n",
    "''')"
   ]
  },
  {
   "cell_type": "code",
   "execution_count": null,
   "metadata": {
    "scrolled": false
   },
   "outputs": [],
   "source": [
    "HTML('''\n",
    "<style scoped>\n",
    "    .mejorado {\n",
    "         color: orange;\n",
    "</style>\n",
    "<div id=\"d3-div-1\"></div>\n",
    "<script>\n",
    "    let size_data = [10,20,30];\n",
    "    \n",
    "    require([\"d3\"], function(d3){\n",
    "        d3.select(\"#d3-div-1\").selectAll('.mejorado')\n",
    "        .data(size_data)\n",
    "        .enter().append('p')\n",
    "        .attr(\"class\",\"mejorado\")\n",
    "        .style(\"font-size\", d => \"\" + d + \"px\")\n",
    "        .text(\"¡Hola, D3!\");\n",
    "        })\n",
    "</script>\n",
    "''')"
   ]
  },
  {
   "cell_type": "code",
   "execution_count": null,
   "metadata": {
    "scrolled": false
   },
   "outputs": [],
   "source": [
    "from string import Template"
   ]
  },
  {
   "cell_type": "code",
   "execution_count": null,
   "metadata": {
    "scrolled": false
   },
   "outputs": [],
   "source": [
    "size_data = [15,30,45]"
   ]
  },
  {
   "cell_type": "code",
   "execution_count": null,
   "metadata": {
    "scrolled": false
   },
   "outputs": [],
   "source": [
    "html_template = Template('''\n",
    "<style scoped> .mejorado {color: orange;} </style>\n",
    "\n",
    "<div id=\"d3-div-2\"></div>\n",
    "\n",
    "<script>\n",
    "    let sizedata = $size_data_python;\n",
    "    require([\"d3\"], function(d3){\n",
    "        d3.select(\"#d3-div-2\").selectAll('.mejorado')\n",
    "            .data(sizedata)\n",
    "            .enter().append('p')\n",
    "            .attr(\"class\",\"mejorado\")\n",
    "            .style(\"font-size\", d => \"\" + d + \"px\")\n",
    "            .text(\"¡Hola D3 con datos de Python!\");\n",
    "        })\n",
    "</script>\n",
    "''')\n",
    "HTML(html_template.substitute({'size_data_python': str(size_data)}))"
   ]
  },
  {
   "cell_type": "markdown",
   "metadata": {},
   "source": [
    "<p style=\"text-align: center\"><a rel=\"license\" href=\"http://creativecommons.org/licenses/by/4.0/\"><img alt=\"Licencia Creative Commons\" style=\"border-width:0\" src=\"https://i.creativecommons.org/l/by/4.0/80x15.png\" /></a><br />Esta obra está bajo una <a rel=\"license\" href=\"http://creativecommons.org/licenses/by/4.0/\">Licencia Creative Commons Atribución 4.0 Internacional</a>.</p>\n",
    "<p style=\"text-align: center\">&copy; José Luis Chiquete Valdivieso. 2018.</p>"
   ]
  }
 ],
 "metadata": {
  "kernelspec": {
   "display_name": "Python 3",
   "language": "python",
   "name": "python3"
  },
  "language_info": {
   "codemirror_mode": {
    "name": "ipython",
    "version": 3
   },
   "file_extension": ".py",
   "mimetype": "text/x-python",
   "name": "python",
   "nbconvert_exporter": "python",
   "pygments_lexer": "ipython3",
   "version": "3.6.5"
  }
 },
 "nbformat": 4,
 "nbformat_minor": 2
}
